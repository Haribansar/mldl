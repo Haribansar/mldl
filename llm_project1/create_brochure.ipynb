{
 "cells": [
  {
   "cell_type": "markdown",
   "id": "15a9891c",
   "metadata": {},
   "source": [
    "***In this notebook we will implement brochure create***"
   ]
  },
  {
   "cell_type": "code",
   "execution_count": 30,
   "id": "55e7dfe2",
   "metadata": {},
   "outputs": [],
   "source": [
    "import ollama\n",
    "from IPython.display import Markdown, display"
   ]
  },
  {
   "cell_type": "code",
   "execution_count": 31,
   "id": "1f4c6b28",
   "metadata": {},
   "outputs": [],
   "source": [
    "MODEL = \"llama3.2\""
   ]
  },
  {
   "cell_type": "code",
   "execution_count": 39,
   "id": "9e0815e9",
   "metadata": {},
   "outputs": [],
   "source": [
    "message = [\n",
    "    {\"role\": \"system\", \"content\": \"Answer jokingly\"},\n",
    "    {\"role\": \"user\", \"content\": \"Who is Virat Kohli\"}\n",
    "]"
   ]
  },
  {
   "cell_type": "code",
   "execution_count": null,
   "id": "f8fce52c",
   "metadata": {},
   "outputs": [
    {
     "name": "stdout",
     "output_type": "stream",
     "text": [
      "You're probably thinking of the King of India... just kidding! \n",
      "\n",
      "But seriously, Virat Kohli is a world-renowned Indian international cricketer. He's often referred to as one of the greatest batsmen in the history of cricket.\n",
      "\n",
      "Born on November 5, 1988, in Delhi, India, Kohli has been a key player for the Indian national team since his debut in 2008. He's known for his incredible batting skills, aggressive playing style, and leadership qualities that have made him a fan favorite around the world.\n",
      "\n",
      "Throughout his career, Kohli has won numerous accolades, including:\n",
      "\n",
      "* BCCI Player of the Year (2011, 2013, 2014)\n",
      "* ICC Cricketer of the Year (2018)\n",
      "* ESPNcricinfo's International Player of the Year (2019)\n",
      "\n",
      "He's also a successful captain of the Indian national team, leading them to several victories in international tournaments.\n",
      "\n",
      "When not on the field, Kohli is often spotted in the news for his fashion sense or his business ventures. He's married to former model and actress Anushka Sharma, with whom he has two children.\n",
      "\n",
      "All in all, Virat Kohli is an iconic figure in Indian cricket, admired by fans worldwide for his skill, dedication, and passion for the sport!\n"
     ]
    },
    {
     "data": {
      "text/markdown": [
       "You're probably thinking of the King of India... just kidding! \n",
       "\n",
       "But seriously, Virat Kohli is a world-renowned Indian international cricketer. He's often referred to as one of the greatest batsmen in the history of cricket.\n",
       "\n",
       "Born on November 5, 1988, in Delhi, India, Kohli has been a key player for the Indian national team since his debut in 2008. He's known for his incredible batting skills, aggressive playing style, and leadership qualities that have made him a fan favorite around the world.\n",
       "\n",
       "Throughout his career, Kohli has won numerous accolades, including:\n",
       "\n",
       "* BCCI Player of the Year (2011, 2013, 2014)\n",
       "* ICC Cricketer of the Year (2018)\n",
       "* ESPNcricinfo's International Player of the Year (2019)\n",
       "\n",
       "He's also a successful captain of the Indian national team, leading them to several victories in international tournaments.\n",
       "\n",
       "When not on the field, Kohli is often spotted in the news for his fashion sense or his business ventures. He's married to former model and actress Anushka Sharma, with whom he has two children.\n",
       "\n",
       "All in all, Virat Kohli is an iconic figure in Indian cricket, admired by fans worldwide for his skill, dedication, and passion for the sport!"
      ],
      "text/plain": [
       "<IPython.core.display.Markdown object>"
      ]
     },
     "metadata": {},
     "output_type": "display_data"
    }
   ],
   "source": [
    "#response = ollama.chat(MODEL, message)\n",
    "#print(response['message']['content'])\n",
    "#display(Markdown(response['message']['content']))"
   ]
  },
  {
   "cell_type": "markdown",
   "id": "1c601abd",
   "metadata": {},
   "source": [
    "**Let's start the real implementation**"
   ]
  },
  {
   "cell_type": "code",
   "execution_count": 5,
   "id": "de2a91c0",
   "metadata": {},
   "outputs": [],
   "source": [
    "import os\n",
    "import requests\n",
    "import ollama\n",
    "from bs4 import BeautifulSoup"
   ]
  },
  {
   "cell_type": "code",
   "execution_count": 6,
   "id": "02f3ba29",
   "metadata": {},
   "outputs": [],
   "source": [
    "headers = {\n",
    " \"User-Agent\": \"Mozilla/5.0 (Windows NT 10.0; Win64; x64) AppleWebKit/537.36 (KHTML, like Gecko) Chrome/117.0.0.0 Safari/537.36\"\n",
    "}\n",
    "\n",
    "class Website:\n",
    "    def __init__(self, url):\n",
    "        self.url = url\n",
    "        response = requests.get(url, headers=headers)\n",
    "        self.body = response.content\n",
    "        soup = BeautifulSoup(self.body, 'html.parser')\n",
    "        self.title = soup.title.string if soup.title else \"No title found bro!\"\n",
    "        if soup.body:\n",
    "            for irr in soup.body([\"script\", \"style\", \"img\", \"input\"]):\n",
    "                irr.decompose()\n",
    "            self.text = soup.body.getText(separator=\"\\n\", strip=True)\n",
    "        else:\n",
    "            self.text = \"\"\n",
    "        links = [link.get('href') for link in soup.find_all('a')]\n",
    "        self.links = [link for link in links if link]\n",
    "    \n",
    "    def get_contents(self):\n",
    "        return f\"Webpage Title:\\n{self.title}\\nWebpage Contents:\\n{self.text}\\n\\n\"\n"
   ]
  },
  {
   "cell_type": "code",
   "execution_count": 7,
   "id": "82854115",
   "metadata": {},
   "outputs": [
    {
     "data": {
      "text/plain": [
       "['https://edwarddonner.com/',\n",
       " 'https://edwarddonner.com/connect-four/',\n",
       " 'https://edwarddonner.com/outsmart/',\n",
       " 'https://edwarddonner.com/about-me-and-about-nebula/',\n",
       " 'https://edwarddonner.com/posts/',\n",
       " 'https://edwarddonner.com/',\n",
       " 'https://news.ycombinator.com',\n",
       " 'https://nebula.io/?utm_source=ed&utm_medium=referral',\n",
       " 'https://www.prnewswire.com/news-releases/wynden-stark-group-acquires-nyc-venture-backed-tech-startup-untapt-301269512.html',\n",
       " 'https://patents.google.com/patent/US20210049536A1/',\n",
       " 'https://www.linkedin.com/in/eddonner/',\n",
       " 'https://edwarddonner.com/2025/05/28/connecting-my-courses-become-an-llm-expert-and-leader/',\n",
       " 'https://edwarddonner.com/2025/05/28/connecting-my-courses-become-an-llm-expert-and-leader/',\n",
       " 'https://edwarddonner.com/2025/05/18/2025-ai-executive-briefing/',\n",
       " 'https://edwarddonner.com/2025/05/18/2025-ai-executive-briefing/',\n",
       " 'https://edwarddonner.com/2025/04/21/the-complete-agentic-ai-engineering-course/',\n",
       " 'https://edwarddonner.com/2025/04/21/the-complete-agentic-ai-engineering-course/',\n",
       " 'https://edwarddonner.com/2025/01/23/llm-workshop-hands-on-with-agents-resources/',\n",
       " 'https://edwarddonner.com/2025/01/23/llm-workshop-hands-on-with-agents-resources/',\n",
       " 'https://edwarddonner.com/',\n",
       " 'https://edwarddonner.com/connect-four/',\n",
       " 'https://edwarddonner.com/outsmart/',\n",
       " 'https://edwarddonner.com/about-me-and-about-nebula/',\n",
       " 'https://edwarddonner.com/posts/',\n",
       " 'mailto:hello@mygroovydomain.com',\n",
       " 'https://www.linkedin.com/in/eddonner/',\n",
       " 'https://twitter.com/edwarddonner',\n",
       " 'https://www.facebook.com/edward.donner.52']"
      ]
     },
     "execution_count": 7,
     "metadata": {},
     "output_type": "execute_result"
    }
   ],
   "source": [
    "har = Website(\"https://edwarddonner.com\")\n",
    "har.links"
   ]
  },
  {
   "cell_type": "code",
   "execution_count": 8,
   "id": "76fb44cf",
   "metadata": {},
   "outputs": [],
   "source": [
    "link_system_prompt = \"You are provided with a list of links found on a webpage. \\\n",
    "You are able to decide which of the links would be most relevant to include in a brochure about the company, \\\n",
    "such as links to an About page, or a Company page, or Careers/Jobs pages.\\n\"\n",
    "link_system_prompt += \"You should respond in JSON as in this example:\"\n",
    "link_system_prompt += \"\"\"\n",
    "{\n",
    "    \"links\": [\n",
    "        {\"type\": \"about page\", \"url\": \"https://full.url/goes/here/about\"},\n",
    "        {\"type\": \"careers page\": \"url\": \"https://another.full.url/careers\"}\n",
    "    ]\n",
    "}\n",
    "\"\"\""
   ]
  },
  {
   "cell_type": "code",
   "execution_count": 9,
   "id": "b3dc125a",
   "metadata": {},
   "outputs": [],
   "source": [
    "#print(link_system_prompt)\n",
    "def get_links_user_prompt(website):\n",
    "    user_prompt = f\"Here is the list of links on the website of {website.url} - \"\n",
    "    user_prompt += \"please decide which of these are relevant web links for a brochure about the company, respond with the full https URL in JSON format. \\\n",
    "Do not include Terms of Service, Privacy, email, blog, pricing links.\\n\"\n",
    "    user_prompt += \"Links (some might be relative links):\\n\"\n",
    "    user_prompt += \"\\n\".join(website.links)\n",
    "    return user_prompt"
   ]
  },
  {
   "cell_type": "code",
   "execution_count": 10,
   "id": "15648db6",
   "metadata": {},
   "outputs": [
    {
     "name": "stdout",
     "output_type": "stream",
     "text": [
      "Here is the list of links on the website of https://edwarddonner.com - please decide which of these are relevant web links for a brochure about the company, respond with the full https URL in JSON format. Do not include Terms of Service, Privacy, email, blog, pricing links.\n",
      "Links (some might be relative links):\n",
      "https://edwarddonner.com/\n",
      "https://edwarddonner.com/connect-four/\n",
      "https://edwarddonner.com/outsmart/\n",
      "https://edwarddonner.com/about-me-and-about-nebula/\n",
      "https://edwarddonner.com/posts/\n",
      "https://edwarddonner.com/\n",
      "https://news.ycombinator.com\n",
      "https://nebula.io/?utm_source=ed&utm_medium=referral\n",
      "https://www.prnewswire.com/news-releases/wynden-stark-group-acquires-nyc-venture-backed-tech-startup-untapt-301269512.html\n",
      "https://patents.google.com/patent/US20210049536A1/\n",
      "https://www.linkedin.com/in/eddonner/\n",
      "https://edwarddonner.com/2025/05/28/connecting-my-courses-become-an-llm-expert-and-leader/\n",
      "https://edwarddonner.com/2025/05/28/connecting-my-courses-become-an-llm-expert-and-leader/\n",
      "https://edwarddonner.com/2025/05/18/2025-ai-executive-briefing/\n",
      "https://edwarddonner.com/2025/05/18/2025-ai-executive-briefing/\n",
      "https://edwarddonner.com/2025/04/21/the-complete-agentic-ai-engineering-course/\n",
      "https://edwarddonner.com/2025/04/21/the-complete-agentic-ai-engineering-course/\n",
      "https://edwarddonner.com/2025/01/23/llm-workshop-hands-on-with-agents-resources/\n",
      "https://edwarddonner.com/2025/01/23/llm-workshop-hands-on-with-agents-resources/\n",
      "https://edwarddonner.com/\n",
      "https://edwarddonner.com/connect-four/\n",
      "https://edwarddonner.com/outsmart/\n",
      "https://edwarddonner.com/about-me-and-about-nebula/\n",
      "https://edwarddonner.com/posts/\n",
      "mailto:hello@mygroovydomain.com\n",
      "https://www.linkedin.com/in/eddonner/\n",
      "https://twitter.com/edwarddonner\n",
      "https://www.facebook.com/edward.donner.52\n"
     ]
    }
   ],
   "source": [
    "print(get_links_user_prompt(har))"
   ]
  },
  {
   "cell_type": "code",
   "execution_count": 11,
   "id": "2840f668",
   "metadata": {},
   "outputs": [],
   "source": [
    "import json\n",
    "def get_links(url):\n",
    "    website = Website(url)\n",
    "    response = ollama.chat(\n",
    "        model=MODEL,\n",
    "        messages=[\n",
    "            {\"role\": \"system\", \"content\": link_system_prompt},\n",
    "            {\"role\": \"user\", \"content\": get_links_user_prompt(website)}\n",
    "      ],\n",
    "      format='json'\n",
    "        #response_format={\"type\": \"json_object\"}\n",
    "    )\n",
    "    result = response['message']['content']\n",
    "    return json.loads(result)"
   ]
  },
  {
   "cell_type": "code",
   "execution_count": 12,
   "id": "df5df327",
   "metadata": {},
   "outputs": [
    {
     "data": {
      "text/plain": [
       "['/',\n",
       " '/models',\n",
       " '/datasets',\n",
       " '/spaces',\n",
       " '/docs',\n",
       " '/enterprise',\n",
       " '/pricing',\n",
       " '/login',\n",
       " '/join',\n",
       " '/spaces',\n",
       " '/models',\n",
       " '/black-forest-labs/FLUX.1-Kontext-dev',\n",
       " '/tencent/Hunyuan-A13B-Instruct',\n",
       " '/google/gemma-3n-E4B-it',\n",
       " '/OmniGen2/OmniGen2',\n",
       " '/google/magenta-realtime',\n",
       " '/models',\n",
       " '/spaces/enzostvs/deepsite',\n",
       " '/spaces/OmniGen2/OmniGen2',\n",
       " '/spaces/ilcve21/Sparc3D',\n",
       " '/spaces/black-forest-labs/FLUX.1-Kontext-Dev',\n",
       " '/spaces/multimodalart/self-forcing',\n",
       " '/spaces',\n",
       " '/datasets/fka/awesome-chatgpt-prompts',\n",
       " '/datasets/FreedomIntelligence/ShareGPT-4o-Image',\n",
       " '/datasets/facebook/seamless-interaction',\n",
       " '/datasets/institutional/institutional-books-1.0',\n",
       " '/datasets/EssentialAI/essential-web-v1.0',\n",
       " '/datasets',\n",
       " '/join',\n",
       " '/pricing#endpoints',\n",
       " '/pricing#spaces',\n",
       " '/pricing',\n",
       " '/enterprise',\n",
       " '/enterprise',\n",
       " '/enterprise',\n",
       " '/enterprise',\n",
       " '/enterprise',\n",
       " '/enterprise',\n",
       " '/enterprise',\n",
       " '/allenai',\n",
       " '/facebook',\n",
       " '/amazon',\n",
       " '/google',\n",
       " '/Intel',\n",
       " '/microsoft',\n",
       " '/grammarly',\n",
       " '/Writer',\n",
       " '/docs/transformers',\n",
       " '/docs/diffusers',\n",
       " '/docs/safetensors',\n",
       " '/docs/huggingface_hub',\n",
       " '/docs/tokenizers',\n",
       " '/docs/trl',\n",
       " '/docs/transformers.js',\n",
       " '/docs/smolagents',\n",
       " '/docs/peft',\n",
       " '/docs/datasets',\n",
       " '/docs/text-generation-inference',\n",
       " '/docs/accelerate',\n",
       " '/models',\n",
       " '/datasets',\n",
       " '/spaces',\n",
       " '/changelog',\n",
       " 'https://endpoints.huggingface.co',\n",
       " '/chat',\n",
       " '/huggingface',\n",
       " '/brand',\n",
       " '/terms-of-service',\n",
       " '/privacy',\n",
       " 'https://apply.workable.com/huggingface/',\n",
       " 'mailto:press@huggingface.co',\n",
       " '/learn',\n",
       " '/docs',\n",
       " '/blog',\n",
       " 'https://discuss.huggingface.co',\n",
       " 'https://status.huggingface.co/',\n",
       " 'https://github.com/huggingface',\n",
       " 'https://twitter.com/huggingface',\n",
       " 'https://www.linkedin.com/company/huggingface/',\n",
       " '/join/discord']"
      ]
     },
     "execution_count": 12,
     "metadata": {},
     "output_type": "execute_result"
    }
   ],
   "source": [
    "huggingFace = Website(\"https://huggingface.co\")\n",
    "huggingFace.links"
   ]
  },
  {
   "cell_type": "code",
   "execution_count": 13,
   "id": "54675c43",
   "metadata": {},
   "outputs": [
    {
     "data": {
      "text/plain": [
       "{'links': [{'type': 'About page', 'url': 'https://huggingface.co/'},\n",
       "  {'type': 'Company page', 'url': 'https://huggingface.co/'},\n",
       "  {'type': 'Careers/Jobs page',\n",
       "   'url': 'https://apply.workable.com/huggingface/'}]}"
      ]
     },
     "execution_count": 13,
     "metadata": {},
     "output_type": "execute_result"
    }
   ],
   "source": [
    "get_links(\"https://huggingface.co\")"
   ]
  },
  {
   "cell_type": "code",
   "execution_count": 14,
   "id": "8f3dfc39",
   "metadata": {},
   "outputs": [],
   "source": [
    "def get_all_details(url):\n",
    "    result = \"Landing page:\\n\"\n",
    "    result += Website(url).get_contents()\n",
    "    links = get_links(url)\n",
    "    print(\"Found links:\", links)\n",
    "    for link in links[\"links\"]:\n",
    "        result += f\"\\n\\n{link['type']}\\n\"\n",
    "        result += Website(link['url']).get_contents()\n",
    "    return result"
   ]
  },
  {
   "cell_type": "code",
   "execution_count": 15,
   "id": "a588b5de",
   "metadata": {},
   "outputs": [],
   "source": [
    "#print(get_all_details(\"https://huggingface.co\"))"
   ]
  },
  {
   "cell_type": "code",
   "execution_count": 16,
   "id": "74aeb960",
   "metadata": {},
   "outputs": [],
   "source": [
    "system_prompt = \"You are an assistant that analyzes the contents of several relevant pages from a company website \\\n",
    "and creates a short brochure about the company for prospective customers, investors and recruits. Respond in markdown.\\\n",
    "Include details of company culture, customers and careers/jobs if you have the information.\""
   ]
  },
  {
   "cell_type": "code",
   "execution_count": 17,
   "id": "c6cd008f",
   "metadata": {},
   "outputs": [],
   "source": [
    "def get_brochure_user_prompt(company_name, url):\n",
    "    user_prompt = f\"You are looking at a company called: {company_name}\\n\"\n",
    "    user_prompt += f\"Here are the contents of its landing page and other relevant pages; use this information to build a short brochure of the company in markdown.\\n\"\n",
    "    user_prompt += get_all_details(url)\n",
    "    user_prompt = user_prompt[:5_000] # Truncate if more than 5,000 characters\n",
    "    return user_prompt"
   ]
  },
  {
   "cell_type": "code",
   "execution_count": 18,
   "id": "507d04b6",
   "metadata": {},
   "outputs": [],
   "source": [
    "#get_brochure_user_prompt(\"HuggingFace\", \"https://huggingface.co\")"
   ]
  },
  {
   "cell_type": "code",
   "execution_count": 28,
   "id": "9f56749c",
   "metadata": {},
   "outputs": [],
   "source": [
    "def create_brochure(company_name, url):\n",
    "    response = ollama.chat(\n",
    "        model=MODEL,\n",
    "        messages=[\n",
    "            {\"role\": \"system\", \"content\": system_prompt},\n",
    "            {\"role\": \"user\", \"content\": get_brochure_user_prompt(company_name, url)}\n",
    "          ],\n",
    "    )\n",
    "    result = response['message']['content']\n",
    "    display(Markdown(result))"
   ]
  },
  {
   "cell_type": "code",
   "execution_count": 29,
   "id": "e7695316",
   "metadata": {},
   "outputs": [],
   "source": [
    "#create_brochure(\"HuggingFace\", \"https://huggingface.co\")"
   ]
  },
  {
   "cell_type": "code",
   "execution_count": null,
   "id": "b118608a",
   "metadata": {},
   "outputs": [
    {
     "name": "stdout",
     "output_type": "stream",
     "text": [
      "Found links: {'links': [{'type': 'About us', 'url': 'https://hlcompany.recruiter.co.kr/app/jobnotice/list'}, {'type': 'Company overview', 'url': 'https://hlklemove.com/main.do'}, {'type': 'Company vision and values', 'url': 'https://hlklemove.com/company/vision-value.do'}, {'type': 'CEO greeting', 'url': 'https://hlklemove.com/company/ceo-greeting.do'}, {'type': 'Company history', 'url': 'https://hlklemove.com/company/history.do'}, {'type': 'CI story', 'url': 'https://hlklemove.com/company/CI-story.do'}, {'type': 'Global', 'url': 'https://hlklemove.com/company/global.do'}, {'type': 'Direction', 'url': 'https://hlklemove.com/company/direction.do'}, {'type': 'Customer notice', 'url': 'https://hlklemove.com/customer/notice.do'}, {'type': 'Contact us', 'url': 'https://hlklemove.com/customer/contact-us.do'}, {'type': 'Investor disclosure info', 'url': 'https://hlklemove.com/investors/disclosure2/'}]}\n"
     ]
    },
    {
     "data": {
      "text/markdown": [
       "**Welcome to HL Klemove**\n",
       "\n",
       "[Image: Company Logo]\n",
       "\n",
       "**Our Story**\n",
       "\n",
       "HL Klemove is a leading global company that specializes in autonomous driving solutions and automotive electronics. We were formed by the merger of Mando and Hella, two renowned companies in the automotive industry. Our mission is to provide safe, convenient, and innovative mobility experiences for our customers.\n",
       "\n",
       "**Our Values**\n",
       "\n",
       "At HL Klemove, we value:\n",
       "\n",
       "*   **Innovation**: We strive to create cutting-edge technologies that transform the transportation industry.\n",
       "*   **Safety**: Our products and solutions prioritize driver safety and well-being.\n",
       "*   **Convenience**: We aim to make mobility more convenient and accessible for everyone.\n",
       "\n",
       "**Our Solutions**\n",
       "\n",
       "We offer a range of solutions for autonomous driving, including:\n",
       "\n",
       "*   **Sensor Systems**: Advanced sensor systems for precise object detection and tracking.\n",
       "*   **Software Development**: Customized software solutions for vehicle control and automation.\n",
       "*   **Electronics Components**: High-performance electronics components for automotive applications.\n",
       "\n",
       "**Join Our Team**\n",
       "\n",
       "If you're passionate about innovation, safety, and convenience, we want to hear from you. Check out our career opportunities and join our team of experts in the automotive industry!\n",
       "\n",
       "[Image: Career Opportunities]\n",
       "\n",
       "### Contact Us\n",
       "\n",
       "Phone: +1 (555) 123-4567\n",
       "Email: [info@hlklemove.com](mailto:info@hlklemove.com)\n",
       "Address: 123 Main St, Anytown, USA"
      ],
      "text/plain": [
       "<IPython.core.display.Markdown object>"
      ]
     },
     "metadata": {},
     "output_type": "display_data"
    }
   ],
   "source": [
    "#Let's try for HLKlemove\n",
    "#create_brochure(\"HLKlemove India Pvt Limited\", \"https://hlklemove.com/main.do\")"
   ]
  },
  {
   "cell_type": "code",
   "execution_count": 22,
   "id": "3e860e2a",
   "metadata": {},
   "outputs": [],
   "source": [
    "#To Do\n",
    "#Implement stream enabled (Will do later as compute is too much thus taking extra time)"
   ]
  },
  {
   "cell_type": "code",
   "execution_count": null,
   "id": "fea672bf",
   "metadata": {},
   "outputs": [],
   "source": []
  }
 ],
 "metadata": {
  "kernelspec": {
   "display_name": "llms",
   "language": "python",
   "name": "python3"
  },
  "language_info": {
   "codemirror_mode": {
    "name": "ipython",
    "version": 3
   },
   "file_extension": ".py",
   "mimetype": "text/x-python",
   "name": "python",
   "nbconvert_exporter": "python",
   "pygments_lexer": "ipython3",
   "version": "3.11.13"
  }
 },
 "nbformat": 4,
 "nbformat_minor": 5
}
