{
 "cells": [
  {
   "cell_type": "markdown",
   "id": "15a9891c",
   "metadata": {},
   "source": [
    "***In this notebook we will implement brochure create***"
   ]
  },
  {
   "cell_type": "code",
   "execution_count": 96,
   "id": "55e7dfe2",
   "metadata": {},
   "outputs": [],
   "source": [
    "import ollama\n",
    "from IPython.display import Markdown, display"
   ]
  },
  {
   "cell_type": "code",
   "execution_count": 97,
   "id": "1f4c6b28",
   "metadata": {},
   "outputs": [],
   "source": [
    "MODEL = \"llama3.2\""
   ]
  },
  {
   "cell_type": "code",
   "execution_count": null,
   "id": "9e0815e9",
   "metadata": {},
   "outputs": [],
   "source": [
    "message = [\n",
    "    {\"role\": \"system\", \"content\": \"Answer jokingly\"},\n",
    "    {\"role\": \"user\", \"content\": \"Who is Virat Kohli\"}\n",
    "]"
   ]
  },
  {
   "cell_type": "code",
   "execution_count": null,
   "id": "f8fce52c",
   "metadata": {},
   "outputs": [
    {
     "name": "stdout",
     "output_type": "stream",
     "text": [
      "Virat Kohli is an Indian international cricketer who has been one of the most successful and dominant batsmen in the sport. He was born on November 5, 1988, in New Delhi, India.\n",
      "\n",
      "Kohli is a right-handed top-order batsman and occasional right-arm off-break bowler. He is widely regarded as one of the greatest batsmen in modern cricket history, known for his exceptional technique, consistency, and adaptability.\n",
      "\n",
      "Virat Kohli's career has been marked by numerous achievements and records. Some of his notable accomplishments include:\n",
      "\n",
      "1. Captain of the Indian national team: Kohli was appointed as the captain of the India national cricket team in 2017 and has led the team to several victories, including the 2019 ICC Cricket World Cup final.\n",
      "2. Highest run-scorer in international cricket: As of 2023, Kohli is the second-highest run-scorer in international cricket history, with over 12,000 runs in ODIs (one-day internationals) and Test matches.\n",
      "3. ICC Rankings: Kohli has been ranked as one of the top batsmen in the world by the International Cricket Council (ICC), including being the number one batter on several occasions.\n",
      "4. Records broken: Kohli has broken numerous records throughout his career, including becoming the fastest player to reach 10,000 runs in ODIs and breaking the record for most T20I runs scored.\n",
      "\n",
      "Kohli is also known for his leadership qualities, charisma, and influence on social media, where he has a large following. He has been named as one of the most influential people in the world by Time magazine in 2019.\n",
      "\n",
      "Off the field, Kohli is married to actress Anushka Sharma, with whom he has a son, Aarav, born in December 2021.\n"
     ]
    },
    {
     "data": {
      "text/markdown": [
       "Virat Kohli is an Indian international cricketer who has been one of the most successful and dominant batsmen in the sport. He was born on November 5, 1988, in New Delhi, India.\n",
       "\n",
       "Kohli is a right-handed top-order batsman and occasional right-arm off-break bowler. He is widely regarded as one of the greatest batsmen in modern cricket history, known for his exceptional technique, consistency, and adaptability.\n",
       "\n",
       "Virat Kohli's career has been marked by numerous achievements and records. Some of his notable accomplishments include:\n",
       "\n",
       "1. Captain of the Indian national team: Kohli was appointed as the captain of the India national cricket team in 2017 and has led the team to several victories, including the 2019 ICC Cricket World Cup final.\n",
       "2. Highest run-scorer in international cricket: As of 2023, Kohli is the second-highest run-scorer in international cricket history, with over 12,000 runs in ODIs (one-day internationals) and Test matches.\n",
       "3. ICC Rankings: Kohli has been ranked as one of the top batsmen in the world by the International Cricket Council (ICC), including being the number one batter on several occasions.\n",
       "4. Records broken: Kohli has broken numerous records throughout his career, including becoming the fastest player to reach 10,000 runs in ODIs and breaking the record for most T20I runs scored.\n",
       "\n",
       "Kohli is also known for his leadership qualities, charisma, and influence on social media, where he has a large following. He has been named as one of the most influential people in the world by Time magazine in 2019.\n",
       "\n",
       "Off the field, Kohli is married to actress Anushka Sharma, with whom he has a son, Aarav, born in December 2021."
      ],
      "text/plain": [
       "<IPython.core.display.Markdown object>"
      ]
     },
     "metadata": {},
     "output_type": "display_data"
    }
   ],
   "source": [
    "#response = ollama.chat(MODEL, message)\n",
    "#print(response['message']['content'])\n",
    "#display(Markdown(response['message']['content']))"
   ]
  },
  {
   "cell_type": "markdown",
   "id": "1c601abd",
   "metadata": {},
   "source": [
    "**Let's start the real implementation**"
   ]
  },
  {
   "cell_type": "code",
   "execution_count": 75,
   "id": "de2a91c0",
   "metadata": {},
   "outputs": [],
   "source": [
    "import os\n",
    "import requests\n",
    "import ollama\n",
    "from bs4 import BeautifulSoup"
   ]
  },
  {
   "cell_type": "code",
   "execution_count": 76,
   "id": "02f3ba29",
   "metadata": {},
   "outputs": [],
   "source": [
    "headers = {\n",
    " \"User-Agent\": \"Mozilla/5.0 (Windows NT 10.0; Win64; x64) AppleWebKit/537.36 (KHTML, like Gecko) Chrome/117.0.0.0 Safari/537.36\"\n",
    "}\n",
    "\n",
    "class Website:\n",
    "    def __init__(self, url):\n",
    "        self.url = url\n",
    "        response = requests.get(url, headers=headers)\n",
    "        self.body = response.content\n",
    "        soup = BeautifulSoup(self.body, 'html.parser')\n",
    "        self.title = soup.title.string if soup.title else \"No title found bro!\"\n",
    "        if soup.body:\n",
    "            for irr in soup.body([\"script\", \"style\", \"img\", \"input\"]):\n",
    "                irr.decompose()\n",
    "            self.text = soup.body.getText(separator=\"\\n\", strip=True)\n",
    "        else:\n",
    "            self.text = \"\"\n",
    "        links = [link.get('href') for link in soup.find_all('a')]\n",
    "        self.links = [link for link in links if link]\n",
    "    \n",
    "    def get_contents(self):\n",
    "        return f\"Webpage Title:\\n{self.title}\\nWebpage Contents:\\n{self.text}\\n\\n\"\n"
   ]
  },
  {
   "cell_type": "code",
   "execution_count": 77,
   "id": "82854115",
   "metadata": {},
   "outputs": [
    {
     "data": {
      "text/plain": [
       "['https://edwarddonner.com/',\n",
       " 'https://edwarddonner.com/connect-four/',\n",
       " 'https://edwarddonner.com/outsmart/',\n",
       " 'https://edwarddonner.com/about-me-and-about-nebula/',\n",
       " 'https://edwarddonner.com/posts/',\n",
       " 'https://edwarddonner.com/',\n",
       " 'https://news.ycombinator.com',\n",
       " 'https://nebula.io/?utm_source=ed&utm_medium=referral',\n",
       " 'https://www.prnewswire.com/news-releases/wynden-stark-group-acquires-nyc-venture-backed-tech-startup-untapt-301269512.html',\n",
       " 'https://patents.google.com/patent/US20210049536A1/',\n",
       " 'https://www.linkedin.com/in/eddonner/',\n",
       " 'https://edwarddonner.com/2025/05/28/connecting-my-courses-become-an-llm-expert-and-leader/',\n",
       " 'https://edwarddonner.com/2025/05/28/connecting-my-courses-become-an-llm-expert-and-leader/',\n",
       " 'https://edwarddonner.com/2025/05/18/2025-ai-executive-briefing/',\n",
       " 'https://edwarddonner.com/2025/05/18/2025-ai-executive-briefing/',\n",
       " 'https://edwarddonner.com/2025/04/21/the-complete-agentic-ai-engineering-course/',\n",
       " 'https://edwarddonner.com/2025/04/21/the-complete-agentic-ai-engineering-course/',\n",
       " 'https://edwarddonner.com/2025/01/23/llm-workshop-hands-on-with-agents-resources/',\n",
       " 'https://edwarddonner.com/2025/01/23/llm-workshop-hands-on-with-agents-resources/',\n",
       " 'https://edwarddonner.com/',\n",
       " 'https://edwarddonner.com/connect-four/',\n",
       " 'https://edwarddonner.com/outsmart/',\n",
       " 'https://edwarddonner.com/about-me-and-about-nebula/',\n",
       " 'https://edwarddonner.com/posts/',\n",
       " 'mailto:hello@mygroovydomain.com',\n",
       " 'https://www.linkedin.com/in/eddonner/',\n",
       " 'https://twitter.com/edwarddonner',\n",
       " 'https://www.facebook.com/edward.donner.52']"
      ]
     },
     "execution_count": 77,
     "metadata": {},
     "output_type": "execute_result"
    }
   ],
   "source": [
    "har = Website(\"https://edwarddonner.com\")\n",
    "har.links"
   ]
  },
  {
   "cell_type": "code",
   "execution_count": 78,
   "id": "76fb44cf",
   "metadata": {},
   "outputs": [],
   "source": [
    "link_system_prompt = \"You are provided with a list of links found on a webpage. \\\n",
    "You are able to decide which of the links would be most relevant to include in a brochure about the company, \\\n",
    "such as links to an About page, or a Company page, or Careers/Jobs pages.\\n\"\n",
    "link_system_prompt += \"You should respond in JSON as in this example:\"\n",
    "link_system_prompt += \"\"\"\n",
    "{\n",
    "    \"links\": [\n",
    "        {\"type\": \"about page\", \"url\": \"https://full.url/goes/here/about\"},\n",
    "        {\"type\": \"careers page\": \"url\": \"https://another.full.url/careers\"}\n",
    "    ]\n",
    "}\n",
    "\"\"\""
   ]
  },
  {
   "cell_type": "code",
   "execution_count": 79,
   "id": "b3dc125a",
   "metadata": {},
   "outputs": [],
   "source": [
    "#print(link_system_prompt)\n",
    "def get_links_user_prompt(website):\n",
    "    user_prompt = f\"Here is the list of links on the website of {website.url} - \"\n",
    "    user_prompt += \"please decide which of these are relevant web links for a brochure about the company, respond with the full https URL in JSON format. \\\n",
    "Do not include Terms of Service, Privacy, email, blog, pricing links.\\n\"\n",
    "    user_prompt += \"Links (some might be relative links):\\n\"\n",
    "    user_prompt += \"\\n\".join(website.links)\n",
    "    return user_prompt"
   ]
  },
  {
   "cell_type": "code",
   "execution_count": 80,
   "id": "15648db6",
   "metadata": {},
   "outputs": [
    {
     "name": "stdout",
     "output_type": "stream",
     "text": [
      "Here is the list of links on the website of https://edwarddonner.com - please decide which of these are relevant web links for a brochure about the company, respond with the full https URL in JSON format. Do not include Terms of Service, Privacy, email, blog, pricing links.\n",
      "Links (some might be relative links):\n",
      "https://edwarddonner.com/\n",
      "https://edwarddonner.com/connect-four/\n",
      "https://edwarddonner.com/outsmart/\n",
      "https://edwarddonner.com/about-me-and-about-nebula/\n",
      "https://edwarddonner.com/posts/\n",
      "https://edwarddonner.com/\n",
      "https://news.ycombinator.com\n",
      "https://nebula.io/?utm_source=ed&utm_medium=referral\n",
      "https://www.prnewswire.com/news-releases/wynden-stark-group-acquires-nyc-venture-backed-tech-startup-untapt-301269512.html\n",
      "https://patents.google.com/patent/US20210049536A1/\n",
      "https://www.linkedin.com/in/eddonner/\n",
      "https://edwarddonner.com/2025/05/28/connecting-my-courses-become-an-llm-expert-and-leader/\n",
      "https://edwarddonner.com/2025/05/28/connecting-my-courses-become-an-llm-expert-and-leader/\n",
      "https://edwarddonner.com/2025/05/18/2025-ai-executive-briefing/\n",
      "https://edwarddonner.com/2025/05/18/2025-ai-executive-briefing/\n",
      "https://edwarddonner.com/2025/04/21/the-complete-agentic-ai-engineering-course/\n",
      "https://edwarddonner.com/2025/04/21/the-complete-agentic-ai-engineering-course/\n",
      "https://edwarddonner.com/2025/01/23/llm-workshop-hands-on-with-agents-resources/\n",
      "https://edwarddonner.com/2025/01/23/llm-workshop-hands-on-with-agents-resources/\n",
      "https://edwarddonner.com/\n",
      "https://edwarddonner.com/connect-four/\n",
      "https://edwarddonner.com/outsmart/\n",
      "https://edwarddonner.com/about-me-and-about-nebula/\n",
      "https://edwarddonner.com/posts/\n",
      "mailto:hello@mygroovydomain.com\n",
      "https://www.linkedin.com/in/eddonner/\n",
      "https://twitter.com/edwarddonner\n",
      "https://www.facebook.com/edward.donner.52\n"
     ]
    }
   ],
   "source": [
    "print(get_links_user_prompt(har))"
   ]
  },
  {
   "cell_type": "code",
   "execution_count": 81,
   "id": "2840f668",
   "metadata": {},
   "outputs": [],
   "source": [
    "import json\n",
    "def get_links(url):\n",
    "    website = Website(url)\n",
    "    response = ollama.chat(\n",
    "        model=MODEL,\n",
    "        messages=[\n",
    "            {\"role\": \"system\", \"content\": link_system_prompt},\n",
    "            {\"role\": \"user\", \"content\": get_links_user_prompt(website)}\n",
    "      ],\n",
    "      format='json'\n",
    "        #response_format={\"type\": \"json_object\"}\n",
    "    )\n",
    "    result = response['message']['content']\n",
    "    return json.loads(result)"
   ]
  },
  {
   "cell_type": "code",
   "execution_count": 82,
   "id": "df5df327",
   "metadata": {},
   "outputs": [
    {
     "data": {
      "text/plain": [
       "['/',\n",
       " '/models',\n",
       " '/datasets',\n",
       " '/spaces',\n",
       " '/docs',\n",
       " '/enterprise',\n",
       " '/pricing',\n",
       " '/login',\n",
       " '/join',\n",
       " '/spaces',\n",
       " '/models',\n",
       " '/black-forest-labs/FLUX.1-Kontext-dev',\n",
       " '/google/magenta-realtime',\n",
       " '/nanonets/Nanonets-OCR-s',\n",
       " '/mistralai/Mistral-Small-3.2-24B-Instruct-2506',\n",
       " '/OmniGen2/OmniGen2',\n",
       " '/models',\n",
       " '/spaces/enzostvs/deepsite',\n",
       " '/spaces/ilcve21/Sparc3D',\n",
       " '/spaces/OmniGen2/OmniGen2',\n",
       " '/spaces/tencent/Hunyuan3D-2.1',\n",
       " '/spaces/multimodalart/self-forcing',\n",
       " '/spaces',\n",
       " '/datasets/fka/awesome-chatgpt-prompts',\n",
       " '/datasets/institutional/institutional-books-1.0',\n",
       " '/datasets/EssentialAI/essential-web-v1.0',\n",
       " '/datasets/nvidia/AceReason-1.1-SFT',\n",
       " '/datasets/FreedomIntelligence/ShareGPT-4o-Image',\n",
       " '/datasets',\n",
       " '/join',\n",
       " '/pricing#endpoints',\n",
       " '/pricing#spaces',\n",
       " '/pricing',\n",
       " '/enterprise',\n",
       " '/enterprise',\n",
       " '/enterprise',\n",
       " '/enterprise',\n",
       " '/enterprise',\n",
       " '/enterprise',\n",
       " '/enterprise',\n",
       " '/allenai',\n",
       " '/facebook',\n",
       " '/amazon',\n",
       " '/google',\n",
       " '/Intel',\n",
       " '/microsoft',\n",
       " '/grammarly',\n",
       " '/Writer',\n",
       " '/docs/transformers',\n",
       " '/docs/diffusers',\n",
       " '/docs/safetensors',\n",
       " '/docs/huggingface_hub',\n",
       " '/docs/tokenizers',\n",
       " '/docs/trl',\n",
       " '/docs/transformers.js',\n",
       " '/docs/smolagents',\n",
       " '/docs/peft',\n",
       " '/docs/datasets',\n",
       " '/docs/text-generation-inference',\n",
       " '/docs/accelerate',\n",
       " '/models',\n",
       " '/datasets',\n",
       " '/spaces',\n",
       " '/changelog',\n",
       " 'https://endpoints.huggingface.co',\n",
       " '/chat',\n",
       " '/huggingface',\n",
       " '/brand',\n",
       " '/terms-of-service',\n",
       " '/privacy',\n",
       " 'https://apply.workable.com/huggingface/',\n",
       " 'mailto:press@huggingface.co',\n",
       " '/learn',\n",
       " '/docs',\n",
       " '/blog',\n",
       " 'https://discuss.huggingface.co',\n",
       " 'https://status.huggingface.co/',\n",
       " 'https://github.com/huggingface',\n",
       " 'https://twitter.com/huggingface',\n",
       " 'https://www.linkedin.com/company/huggingface/',\n",
       " '/join/discord']"
      ]
     },
     "execution_count": 82,
     "metadata": {},
     "output_type": "execute_result"
    }
   ],
   "source": [
    "huggingFace = Website(\"https://huggingface.co\")\n",
    "huggingFace.links"
   ]
  },
  {
   "cell_type": "code",
   "execution_count": 83,
   "id": "54675c43",
   "metadata": {},
   "outputs": [
    {
     "data": {
      "text/plain": [
       "{'links': [{'type': 'Company page', 'url': 'https://huggingface.co/'},\n",
       "  {'type': 'About page', 'url': 'https://apply.workable.com/huggingface/'},\n",
       "  {'type': 'Changelog page', 'url': 'https://github.com/huggingface'},\n",
       "  {'type': 'Twitter page', 'url': 'https://twitter.com/huggingface'},\n",
       "  {'type': 'LinkedIn company page',\n",
       "   'url': 'https://www.linkedin.com/company/huggingface/'}]}"
      ]
     },
     "execution_count": 83,
     "metadata": {},
     "output_type": "execute_result"
    }
   ],
   "source": [
    "get_links(\"https://huggingface.co\")"
   ]
  },
  {
   "cell_type": "code",
   "execution_count": 84,
   "id": "8f3dfc39",
   "metadata": {},
   "outputs": [],
   "source": [
    "def get_all_details(url):\n",
    "    result = \"Landing page:\\n\"\n",
    "    result += Website(url).get_contents()\n",
    "    links = get_links(url)\n",
    "    print(\"Found links:\", links)\n",
    "    for link in links[\"links\"]:\n",
    "        result += f\"\\n\\n{link['type']}\\n\"\n",
    "        result += Website(link['url']).get_contents()\n",
    "    return result"
   ]
  },
  {
   "cell_type": "code",
   "execution_count": 85,
   "id": "a588b5de",
   "metadata": {},
   "outputs": [],
   "source": [
    "#print(get_all_details(\"https://huggingface.co\"))"
   ]
  },
  {
   "cell_type": "code",
   "execution_count": 86,
   "id": "74aeb960",
   "metadata": {},
   "outputs": [],
   "source": [
    "system_prompt = \"You are an assistant that analyzes the contents of several relevant pages from a company website \\\n",
    "and creates a short brochure about the company for prospective customers, investors and recruits. Respond in markdown.\\\n",
    "Include details of company culture, customers and careers/jobs if you have the information.\""
   ]
  },
  {
   "cell_type": "code",
   "execution_count": 87,
   "id": "c6cd008f",
   "metadata": {},
   "outputs": [],
   "source": [
    "def get_brochure_user_prompt(company_name, url):\n",
    "    user_prompt = f\"You are looking at a company called: {company_name}\\n\"\n",
    "    user_prompt += f\"Here are the contents of its landing page and other relevant pages; use this information to build a short brochure of the company in markdown.\\n\"\n",
    "    user_prompt += get_all_details(url)\n",
    "    user_prompt = user_prompt[:5_000] # Truncate if more than 5,000 characters\n",
    "    return user_prompt"
   ]
  },
  {
   "cell_type": "code",
   "execution_count": 88,
   "id": "507d04b6",
   "metadata": {},
   "outputs": [],
   "source": [
    "#get_brochure_user_prompt(\"HuggingFace\", \"https://huggingface.co\")"
   ]
  },
  {
   "cell_type": "code",
   "execution_count": 89,
   "id": "9f56749c",
   "metadata": {},
   "outputs": [],
   "source": [
    "def create_brochure(company_name, url):\n",
    "    response = ollama.chat(\n",
    "        model=MODEL,\n",
    "        messages=[\n",
    "            {\"role\": \"system\", \"content\": system_prompt},\n",
    "            {\"role\": \"user\", \"content\": get_brochure_user_prompt(company_name, url)}\n",
    "          ],\n",
    "    )\n",
    "    result = response['message']['content']\n",
    "    display(Markdown(result))"
   ]
  },
  {
   "cell_type": "code",
   "execution_count": 90,
   "id": "e7695316",
   "metadata": {},
   "outputs": [
    {
     "name": "stdout",
     "output_type": "stream",
     "text": [
      "Found links: {'links': [{'type': 'About page', 'url': 'https://huggingface.co'}, {'type': 'Company page', 'url': 'https://huggingface.co/brand'}, {'type': 'Careers/Jobs page', 'url': 'https://apply.workable.com/huggingface/'}, {'type': 'Models page', 'url': 'https://huggingface.co/models'}, {'type': 'Datasets page', 'url': 'https://huggingface.co/datasets'}, {'type': 'Spaces page', 'url': 'https://huggingface.co/spaces'}, {'type': 'Docs page', 'url': 'https://huggingface.co/docs'}, {'type': 'Enterprise page', 'url': 'https://huggingface.co/enterprise'}, {'type': 'All Team Members page (linkedin)', 'url': 'https://www.linkedin.com/company/huggingface/'}]}\n"
     ]
    },
    {
     "data": {
      "text/markdown": [
       "# Hugging Face: Building the Future of AI\n",
       "\n",
       "[Image of a community coming together]\n",
       "\n",
       "Welcome to Hugging Face, the leading platform for machine learning collaboration. Our mission is to empower the global AI community to build and deploy innovative applications that transform industries and improve lives.\n",
       "\n",
       "## About Us\n",
       "\n",
       "Hugging Face was founded on the principle that machine learning should be accessible to everyone. We believe that by building a collaborative platform, we can accelerate innovation and drive real-world impact. Our team of experts in AI, computer science, and engineering works tirelessly to develop cutting-edge tools and services that make it easy for anyone to build and deploy ML models.\n",
       "\n",
       "## Our Community\n",
       "\n",
       "Our community is passionate about machine learning and eager to collaborate on new projects. With over 1 million registered models, our platform has become a go-to destination for researchers, developers, and businesses looking to explore AI applications.\n",
       "\n",
       "* **Top contributors:** Amazon, Google, Meta, Microsoft, Intel, Grammarly\n",
       "* **Industry recognition:** Featured in top publications and conferences worldwide\n",
       "\n",
       "## Our Tools and Services\n",
       "\n",
       "We offer a comprehensive suite of tools and services that support the entire ML lifecycle:\n",
       "\n",
       "### Models\n",
       "\n",
       "* Browse 1 million+ pre-trained models for text, image, video, audio, or 3D applications\n",
       "* Create and share your own custom models with our easy-to-use API\n",
       "\n",
       "### Datasets\n",
       "\n",
       "* Access and share datasets for any ML task, from natural language processing to computer vision\n",
       "* Discover new datasets and build your own using our dataset creation tools\n",
       "\n",
       "### Spaces\n",
       "\n",
       "* Host and collaborate on unlimited public models, datasets, and applications\n",
       "* Explore AI apps and learn how to build your own with our interactive guides\n",
       "\n",
       "## Careers at Hugging Face\n",
       "\n",
       "Join our mission to revolutionize the world of machine learning! We're looking for talented individuals to join our team as engineers, researchers, and product managers.\n",
       "\n",
       "* **Careers page:** [link]\n",
       "* **Blog:** Follow us on our journey to build the future of AI\n",
       "\n",
       "## Get Started Today!\n",
       "\n",
       "Sign up for an account or log in to start exploring our platform and building your first AI application. Join the Hugging Face community today and be part of shaping the future of machine learning!"
      ],
      "text/plain": [
       "<IPython.core.display.Markdown object>"
      ]
     },
     "metadata": {},
     "output_type": "display_data"
    }
   ],
   "source": [
    "create_brochure(\"HuggingFace\", \"https://huggingface.co\")"
   ]
  },
  {
   "cell_type": "code",
   "execution_count": 102,
   "id": "b118608a",
   "metadata": {},
   "outputs": [
    {
     "name": "stdout",
     "output_type": "stream",
     "text": [
      "Found links: {'links': [{'type': 'Company Overview', 'url': 'https://hlklemove.com/main.do'}, {'type': 'About Us/History', 'url': 'https://hlklemove.com/company/history.do'}, {'type': 'Vision and Value', 'url': 'https://hlklemove.com/company/vision-value.do'}, {'type': 'CEO Greeting', 'url': 'https://hlklemove.com/company/ceo-greeting.do'}, {'type': 'Global Operations', 'url': 'https://hlklemove.com/company/global.do'}, {'type': 'Management Team', 'url': 'https://hlcompany.recruiter.co.kr/app/jobnotice/list'}, {'type': 'Investor Relations', 'url': 'https://www.hlklemove.com/investors/disclosure2/'}, {'type': 'Sustainability/CSR', 'url': 'https://hlklemove.com/sustainability/CSR.do'}, {'type': 'Quality Assurance', 'url': 'https://hlklemove.com/sustainability/quality.do'}, {'type': 'Human Rights', 'url': 'https://hlklemove.com/sustainability/human-rights.do'}, {'type': 'Safety and Environment', 'url': 'https://hlklemove.com/sustainability/safety-environment.do'}, {'type': 'Careers/Jobs', 'url': 'https://hlcompany.recruiter.co.kr/app/jobnotice/list'}, {'type': 'Recruit/Philosophy', 'url': 'https://hlcompany.recruiter.co.kr/app/jobnotice/list'}]}\n"
     ]
    },
    {
     "data": {
      "text/markdown": [
       "# HL Klemove: Leading the Future of Mobility\n",
       "\n",
       "## Introduction\n",
       "\n",
       "At HL Klemove, we believe that mobility should be safe, convenient, and enjoyable. Our mission is to empower individuals with the freedom to move around, while providing solutions for a more sustainable future.\n",
       "\n",
       "## About Us\n",
       "\n",
       "HL Klemove is a global company born from the merger of Mando and Hella Electronics, two renowned experts in automotive electronics and ADAS (Advanced Driver Assistance Systems) technology. With our combined expertise, we are committed to creating innovative mobility solutions that exceed customer expectations.\n",
       "\n",
       "### Our Values\n",
       "\n",
       "*   **Heritage**: We draw inspiration from Korea's rich heritage, \"Higher Life,\" to provide a better life for our customers, employees, and society.\n",
       "*   **Clever**: We strive to be the first mover in the ADAS market, delivering cutting-edge solutions that set new standards.\n",
       "*   **Move**: Our goal is to empower individuals with the freedom to move around, while promoting a sustainable future.\n",
       "\n",
       "## Our Solutions\n",
       "\n",
       "HL Klemove offers a range of mobility solutions that cater to diverse needs:\n",
       "\n",
       "*   **Autonomous Driving Solutions**: We develop innovative ADAS systems that enhance vehicle safety and convenience.\n",
       "*   **Automotive Electronics Solutions**: Our solutions cover a broad spectrum of automotive electronics, including infotainment, vehicle control, and driver assistance systems.\n",
       "*   **Data Solutions**: We provide data-driven insights to help customers make informed decisions and optimize their mobility experiences.\n",
       "\n",
       "## Sustainability\n",
       "\n",
       "At HL Klemove, we prioritize sustainability in all aspects of our operations:\n",
       "\n",
       "### Our Commitments\n",
       "\n",
       "*   **Environmental Responsibility**: We strive to minimize our environmental footprint through efficient production processes and sustainable materials.\n",
       "*   **Social Responsibility**: We promote fair labor practices, respect human rights, and support community development initiatives.\n",
       "\n",
       "## Career Opportunities\n",
       "\n",
       "Join our team of talented professionals and contribute to shaping the future of mobility:\n",
       "\n",
       "### Available Positions\n",
       "\n",
       "*   **Research & Development**\n",
       "*   **Engineering**\n",
       "*   **Sales & Marketing**\n",
       "\n",
       "Visit our website to explore available positions and learn more about our company culture.\n",
       "\n",
       "## Global Presence\n",
       "\n",
       "With a strong global presence, we operate in various regions worldwide:\n",
       "\n",
       "### Our Network\n",
       "\n",
       "*   **Asia Pacific**: We have an extensive network of sales offices, R&D centers, and manufacturing facilities across the region.\n",
       "*   **Europe & Americas**: We maintain a robust presence in these markets, with dedicated sales teams and strategic partnerships.\n",
       "\n",
       "## Media Center\n",
       "\n",
       "Stay updated on our latest news and announcements:\n",
       "\n",
       "### Press Releases\n",
       "### Videos\n",
       "### Newsletters"
      ],
      "text/plain": [
       "<IPython.core.display.Markdown object>"
      ]
     },
     "metadata": {},
     "output_type": "display_data"
    }
   ],
   "source": [
    "#Let's try for HLKlemove\n",
    "create_brochure(\"HLKlemove India Pvt Limited\", \"https://hlklemove.com/main.do\")"
   ]
  },
  {
   "cell_type": "code",
   "execution_count": 91,
   "id": "3e860e2a",
   "metadata": {},
   "outputs": [],
   "source": [
    "#To Do\n",
    "#Implement stream enabled (Will do later as compute is too much thus taking extra time)"
   ]
  },
  {
   "cell_type": "code",
   "execution_count": null,
   "id": "fea672bf",
   "metadata": {},
   "outputs": [],
   "source": []
  }
 ],
 "metadata": {
  "kernelspec": {
   "display_name": "llms",
   "language": "python",
   "name": "python3"
  },
  "language_info": {
   "codemirror_mode": {
    "name": "ipython",
    "version": 3
   },
   "file_extension": ".py",
   "mimetype": "text/x-python",
   "name": "python",
   "nbconvert_exporter": "python",
   "pygments_lexer": "ipython3",
   "version": "3.11.13"
  }
 },
 "nbformat": 4,
 "nbformat_minor": 5
}
