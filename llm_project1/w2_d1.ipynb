{
 "cells": [
  {
   "cell_type": "code",
   "execution_count": 25,
   "id": "335e0a54",
   "metadata": {},
   "outputs": [],
   "source": [
    "import ollama"
   ]
  },
  {
   "cell_type": "code",
   "execution_count": 26,
   "id": "7f43e17d",
   "metadata": {},
   "outputs": [],
   "source": [
    "MODEL = \"llama3.2\""
   ]
  },
  {
   "cell_type": "code",
   "execution_count": 27,
   "id": "7d15162d",
   "metadata": {},
   "outputs": [],
   "source": [
    "system_prompt = \"Engineer\"\n",
    "user_prompt = \"Tell me a joke\""
   ]
  },
  {
   "cell_type": "code",
   "execution_count": 28,
   "id": "e2b7cc34",
   "metadata": {},
   "outputs": [],
   "source": [
    "message = [\n",
    "    {\"role\": \"system\", \"content\": system_prompt},\n",
    "    {\"role\": \"user\", \"content\": user_prompt}\n",
    "]"
   ]
  },
  {
   "cell_type": "code",
   "execution_count": 29,
   "id": "366c49eb",
   "metadata": {},
   "outputs": [
    {
     "name": "stdout",
     "output_type": "stream",
     "text": [
      "Why do engineers prefer dark mode?\n",
      "\n",
      "Because light attracts bugs.\n"
     ]
    }
   ],
   "source": [
    "response = ollama.chat(model=MODEL,\n",
    "                       messages=message)\n",
    "print(response['message']['content'])"
   ]
  },
  {
   "cell_type": "code",
   "execution_count": 30,
   "id": "d6459f2d",
   "metadata": {},
   "outputs": [],
   "source": [
    "challenge = [{\"role\": \"system\", \"content\": \"You are a helpful assistant\"},\n",
    "             {\"role\": \"user\", \"content\": \"How many words are there in your answer to this prompt\"}]"
   ]
  },
  {
   "cell_type": "code",
   "execution_count": 31,
   "id": "41e597f7",
   "metadata": {},
   "outputs": [
    {
     "name": "stdout",
     "output_type": "stream",
     "text": [
      "In my last message, there were approximately 8 words.\n"
     ]
    }
   ],
   "source": [
    "response = ollama.chat(model=MODEL,\n",
    "                       messages=challenge)\n",
    "print(response['message']['content'])"
   ]
  },
  {
   "cell_type": "code",
   "execution_count": 32,
   "id": "405f62a9",
   "metadata": {},
   "outputs": [],
   "source": [
    "gpt_message = [\"Hii claude\"]\n",
    "claude_message = [\"Hi gpt\"]"
   ]
  },
  {
   "cell_type": "code",
   "execution_count": 34,
   "id": "3686074a",
   "metadata": {},
   "outputs": [
    {
     "data": {
      "text/plain": [
       "[{'role': 'system', 'content': 'checking between the chatbots'},\n",
       " {'role': 'assistant', 'content': 'Hii claude'},\n",
       " {'role': 'user', 'content': 'Hi gpt'}]"
      ]
     },
     "execution_count": 34,
     "metadata": {},
     "output_type": "execute_result"
    }
   ],
   "source": [
    "message1 = [{\"role\": \"system\", \"content\": \"checking between the chatbots\"}]\n",
    "for gpt, claude in zip(gpt_message, claude_message):\n",
    "    message1.append({\"role\":\"assistant\", \"content\": gpt})\n",
    "    message1.append({\"role\":\"user\", \"content\": claude})\n",
    "message1"
   ]
  },
  {
   "cell_type": "code",
   "execution_count": 35,
   "id": "b233cdae",
   "metadata": {},
   "outputs": [
    {
     "data": {
      "text/plain": [
       "[{'role': 'user', 'content': 'Hii claude'},\n",
       " {'role': 'assistant', 'content': 'Hi gpt'},\n",
       " {'role': 'user', 'content': 'Hii claude'}]"
      ]
     },
     "execution_count": 35,
     "metadata": {},
     "output_type": "execute_result"
    }
   ],
   "source": [
    "message2 = []\n",
    "for gpt, claude_message in zip(gpt_message, claude_message):\n",
    "    message2.append({\"role\": \"user\", \"content\": gpt})\n",
    "    message2.append({\"role\": \"assistant\", \"content\": claude_message})\n",
    "message2.append({\"role\": \"user\", \"content\": gpt_message[-1]})\n",
    "message2"
   ]
  },
  {
   "cell_type": "code",
   "execution_count": null,
   "id": "922f109a",
   "metadata": {},
   "outputs": [],
   "source": []
  },
  {
   "cell_type": "code",
   "execution_count": null,
   "id": "dea22d78",
   "metadata": {},
   "outputs": [],
   "source": []
  },
  {
   "cell_type": "code",
   "execution_count": null,
   "id": "858dce44",
   "metadata": {},
   "outputs": [],
   "source": []
  }
 ],
 "metadata": {
  "kernelspec": {
   "display_name": "llms",
   "language": "python",
   "name": "python3"
  },
  "language_info": {
   "codemirror_mode": {
    "name": "ipython",
    "version": 3
   },
   "file_extension": ".py",
   "mimetype": "text/x-python",
   "name": "python",
   "nbconvert_exporter": "python",
   "pygments_lexer": "ipython3",
   "version": "3.11.13"
  }
 },
 "nbformat": 4,
 "nbformat_minor": 5
}
