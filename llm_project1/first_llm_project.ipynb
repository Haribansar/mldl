{
  "cells": [
    {
      "cell_type": "markdown",
      "metadata": {
        "id": "view-in-github",
        "colab_type": "text"
      },
      "source": [
        "<a href=\"https://colab.research.google.com/github/Haribansar/mldl/blob/main/llm_project1/first_llm_project.ipynb\" target=\"_parent\"><img src=\"https://colab.research.google.com/assets/colab-badge.svg\" alt=\"Open In Colab\"/></a>"
      ]
    },
    {
      "cell_type": "markdown",
      "metadata": {
        "id": "gHiVnP1yH6RS"
      },
      "source": [
        "***Beautifully connected the colab and github***\n",
        "\n",
        "Let's start the learning"
      ]
    },
    {
      "cell_type": "markdown",
      "metadata": {
        "id": "JokXHSYSRB08"
      },
      "source": [
        "*Commenting from local system*"
      ]
    },
    {
      "cell_type": "markdown",
      "metadata": {},
      "source": [
        "***Below code is implemented using Ollama APIs not OpenAI***"
      ]
    },
    {
      "cell_type": "code",
      "execution_count": 31,
      "metadata": {},
      "outputs": [],
      "source": [
        "import requests\n",
        "from bs4 import BeautifulSoup\n",
        "from IPython.display import Markdown, display"
      ]
    },
    {
      "cell_type": "code",
      "execution_count": 32,
      "metadata": {},
      "outputs": [],
      "source": [
        "OLLAMA_API = \"http://localhost:11434/api/chat\"\n",
        "HEADERS = {\"Content-Type\": \"application/json\"}\n",
        "MODEL = \"llama3.2\""
      ]
    },
    {
      "cell_type": "code",
      "execution_count": 33,
      "metadata": {},
      "outputs": [],
      "source": [
        "messages = [\n",
        "    {\"role\": \"user\", \"content\": \"Tell me a joke on engineers\"}\n",
        "]"
      ]
    },
    {
      "cell_type": "code",
      "execution_count": 34,
      "metadata": {},
      "outputs": [],
      "source": [
        "payload = {\n",
        "    \"model\": MODEL,\n",
        "    \"messages\": messages,\n",
        "    \"stream\": False\n",
        "}"
      ]
    },
    {
      "cell_type": "code",
      "execution_count": 35,
      "metadata": {},
      "outputs": [
        {
          "name": "stdout",
          "output_type": "stream",
          "text": [
            "Why did the engineer cross the road?\n",
            "\n",
            "To get to the other side... of the spec sheet! (get it?)\n"
          ]
        }
      ],
      "source": [
        "response = requests.post(OLLAMA_API, json=payload, headers=HEADERS)\n",
        "print(response.json()['message']['content'])"
      ]
    },
    {
      "cell_type": "code",
      "execution_count": 36,
      "metadata": {},
      "outputs": [],
      "source": [
        "messages1 = [\n",
        "    {\"role\": \"user\", \"content\": \"Tell me a joke on doctors\"}\n",
        "]"
      ]
    },
    {
      "cell_type": "code",
      "execution_count": 37,
      "metadata": {},
      "outputs": [
        {
          "name": "stdout",
          "output_type": "stream",
          "text": [
            "Why did the doctor put a band-aid on the computer?\n",
            "\n",
            "It had a virus! (get it?)\n"
          ]
        }
      ],
      "source": [
        "#Let's call the Ollama as a package instead of using HTTP call\n",
        "import ollama\n",
        "\n",
        "response = ollama.chat(model=MODEL, messages=messages1)\n",
        "print(response['message']['content'])"
      ]
    },
    {
      "cell_type": "markdown",
      "metadata": {},
      "source": [
        "***Let's implement the same as above using OpenAI for Ollama***"
      ]
    },
    {
      "cell_type": "code",
      "execution_count": 38,
      "metadata": {},
      "outputs": [],
      "source": [
        "messages2 = [\n",
        "    {\"role\": \"user\", \"content\": \"Why people watch movies\"}\n",
        "]"
      ]
    },
    {
      "cell_type": "code",
      "execution_count": 39,
      "metadata": {},
      "outputs": [
        {
          "name": "stdout",
          "output_type": "stream",
          "text": [
            "There are many reasons why people watch movies. Here are some of the most common:\n",
            "\n",
            "1. **Escape and Relaxation**: Movies provide an opportunity for viewers to escape from their daily worries, troubles, and stress. Watching a good movie can be a relaxing and enjoyable experience.\n",
            "2. **Entertainment**: Movies can entertain us in various ways, such as thrilling action sequences, romantic comedies, or exciting adventures. They offer a way to have fun, laugh, or be inspired by stories, characters, or events.\n",
            "3. **Emotional Connection**: Movies can evoke emotions like joy, sadness, fear, or excitement. Viewers may relate to the characters' experiences, connect with their struggles, and feel a range of emotions that mirror their own.\n",
            "4. **Knowledge and Awareness**: Documentaries, dramas, or biopics can educate us about social issues, historical events, cultural traditions, or scientific concepts. They provide valuable insights, raise awareness, and spark discussions.\n",
            "5. **Inspiration and Motivation**: Movies can be inspiring, motivational, or thought-provoking. Some films depict characters overcoming challenges, achieving success, or pursuing their passions, which can motivate viewers to pursue their own goals.\n",
            "6. **Social Experience**: Watching movies is often a social activity that brings people together. Viewers may go along with friends or family members to watch the same film, discuss it afterwards, and share opinions about the movie's production and interpretation.\n",
            "7. **Nostalgia**: Movies can evoke memories of past experiences, places, or events. Classics from one's childhood might be revisited as nostalgia takes over, while current movies may serve as a nostalgic reminder of today's era.\n",
            "8. **Cultural Significance**: Some movies provide insight into cultural traditions, values, or customs, particularly those related to specific communities or social contexts.\n",
            "9. **Aesthetic Appreciation**: Movies offer visual arts, music, acting, and directing talent. Fans might appreciate the artistic skill involved in filmmaking, even if they enjoy the overall entertainment value of a movie.\n",
            "10. **Curiosity and Exploration**: Viewers may watch movies simply because they are interested in topics or themes that pique their curiosity, like sci-fi stories, historical epics, or foreign cinema.\n",
            "11. **Fun and Laughter**: Comedies and light-hearted entertainments might be watched for sheer enjoyment or simple pleasure.\n",
            "12. **Escape from Reality**: Movies can transport viewers to different worlds, allowing them to temporarily forget about everyday problems and immerse themselves in an alternate reality.\n",
            "\n",
            "These reasons illustrate the various motivations behind people watching movies – entertainment, education, inspiration, social interaction, curiosity, nostalgia, and more!\n"
          ]
        }
      ],
      "source": [
        "from openai import OpenAI\n",
        "ollama_openai = OpenAI(base_url='http://localhost:11434/v1', api_key='ollama')\n",
        "\n",
        "response = ollama_openai.chat.completions.create(\n",
        "    model=MODEL,\n",
        "    messages=messages2\n",
        ")\n",
        "\n",
        "print(response.choices[0].message.content)"
      ]
    },
    {
      "cell_type": "markdown",
      "metadata": {},
      "source": [
        "*Let's replicate the day1 using ollama*"
      ]
    },
    {
      "cell_type": "code",
      "execution_count": 47,
      "metadata": {},
      "outputs": [],
      "source": [
        "headers = {\n",
        " \"User-Agent\": \"Mozilla/5.0 (Windows NT 10.0; Win64; x64) AppleWebKit/537.36 (KHTML, like Gecko) Chrome/117.0.0.0 Safari/537.36\"\n",
        "}\n",
        "\n",
        "class Website:\n",
        "    def __init__(self, url):\n",
        "        self.url = url\n",
        "        response = requests.get(url=url, headers=headers)\n",
        "        soup = BeautifulSoup(response.content, 'html.parser')\n",
        "        self.title = soup.title.string if soup.title else \"No title found\"\n",
        "        for irr in soup.body([\"script\", \"style\", \"img\", \"input\"]):\n",
        "            irr.decompose()\n",
        "        self.text = soup.body.getText(separator=\"\\n\", strip=True)"
      ]
    },
    {
      "cell_type": "code",
      "execution_count": 48,
      "metadata": {},
      "outputs": [
        {
          "name": "stdout",
          "output_type": "stream",
          "text": [
            "Home - Edward Donner\n",
            "Home\n",
            "Connect Four\n",
            "Outsmart\n",
            "An arena that pits LLMs against each other in a battle of diplomacy and deviousness\n",
            "About\n",
            "Posts\n",
            "Well, hi there.\n",
            "I’m Ed. I like writing code and experimenting with LLMs, and hopefully you’re here because you do too. I also enjoy DJing (but I’m badly out of practice), amateur electronic music production (\n",
            "very\n",
            "amateur) and losing myself in\n",
            "Hacker News\n",
            ", nodding my head sagely to things I only half understand.\n",
            "I’m the co-founder and CTO of\n",
            "Nebula.io\n",
            ". We’re applying AI to a field where it can make a massive, positive impact: helping people discover their potential and pursue their reason for being. Recruiters use our product today to source, understand, engage and manage talent. I’m previously the founder and CEO of AI startup untapt,\n",
            "acquired in 2021\n",
            ".\n",
            "We work with groundbreaking, proprietary LLMs verticalized for talent, we’ve\n",
            "patented\n",
            "our matching model, and our award-winning platform has happy customers and tons of press coverage.\n",
            "Connect\n",
            "with me for more!\n",
            "May 28, 2025\n",
            "Connecting my courses – become an LLM expert and leader\n",
            "May 18, 2025\n",
            "2025 AI Executive Briefing\n",
            "April 21, 2025\n",
            "The Complete Agentic AI Engineering Course\n",
            "January 23, 2025\n",
            "LLM Workshop – Hands-on with Agents – resources\n",
            "Navigation\n",
            "Home\n",
            "Connect Four\n",
            "Outsmart\n",
            "An arena that pits LLMs against each other in a battle of diplomacy and deviousness\n",
            "About\n",
            "Posts\n",
            "Get in touch\n",
            "ed [at] edwarddonner [dot] com\n",
            "www.edwarddonner.com\n",
            "Follow me\n",
            "LinkedIn\n",
            "Twitter\n",
            "Facebook\n",
            "Subscribe to newsletter\n",
            "Type your email…\n",
            "Subscribe\n"
          ]
        }
      ],
      "source": [
        "har = Website(\"https://edwarddonner.com\")\n",
        "print(har.title)\n",
        "print(har.text)"
      ]
    },
    {
      "cell_type": "code",
<<<<<<< HEAD
      "execution_count": null,
      "metadata": {},
      "outputs": [],
      "source": []
    },
    {
      "cell_type": "code",
      "execution_count": null,
      "metadata": {},
      "outputs": [],
      "source": []
    },
    {
      "cell_type": "code",
      "execution_count": null,
      "metadata": {},
      "outputs": [],
      "source": []
    },
    {
      "cell_type": "code",
      "execution_count": null,
      "metadata": {},
      "outputs": [],
      "source": []
=======
      "execution_count": 1,
      "metadata": {
        "id": "rXezz4ugGcvb",
        "colab": {
          "base_uri": "https://localhost:8080/",
          "height": 36
        },
        "outputId": "da49e7c6-5b2b-4d0a-9739-2bc1a465fecd"
      },
      "outputs": [
        {
          "output_type": "execute_result",
          "data": {
            "text/plain": [
              "'2.6.0+cu124'"
            ],
            "application/vnd.google.colaboratory.intrinsic+json": {
              "type": "string"
            }
          },
          "metadata": {},
          "execution_count": 1
        }
      ],
      "source": [
        "import torch\n",
        "torch.__version__"
      ]
    },
    {
      "cell_type": "code",
      "source": [
        "tensor = torch.rand(1,3)\n",
        "tensor"
      ],
      "metadata": {
        "colab": {
          "base_uri": "https://localhost:8080/"
        },
        "id": "oxtCqneYRNfn",
        "outputId": "3ac27cec-0232-41b6-ad3d-df63bcbe5fe4"
      },
      "execution_count": 2,
      "outputs": [
        {
          "output_type": "execute_result",
          "data": {
            "text/plain": [
              "tensor([[0.9688, 0.7798, 0.9547]])"
            ]
          },
          "metadata": {},
          "execution_count": 2
        }
      ]
    },
    {
      "cell_type": "code",
      "source": [
        "from openai import OpenAI"
      ],
      "metadata": {
        "id": "jCDLuxpjRYgq"
      },
      "execution_count": 3,
      "outputs": []
    },
    {
      "cell_type": "code",
      "source": [],
      "metadata": {
        "id": "cZaDhLPIWKdY"
      },
      "execution_count": null,
      "outputs": []
>>>>>>> 9b4b1ae67807d9eb867fe9d26d779171cd2df985
    }
  ],
  "metadata": {
    "colab": {
      "provenance": [],
      "toc_visible": true,
      "include_colab_link": true
    },
    "kernelspec": {
      "display_name": "llms",
      "language": "python",
      "name": "python3"
    },
    "language_info": {
      "codemirror_mode": {
        "name": "ipython",
        "version": 3
      },
      "file_extension": ".py",
      "mimetype": "text/x-python",
      "name": "python",
      "nbconvert_exporter": "python",
      "pygments_lexer": "ipython3",
      "version": "3.11.13"
    }
  },
  "nbformat": 4,
  "nbformat_minor": 0
}